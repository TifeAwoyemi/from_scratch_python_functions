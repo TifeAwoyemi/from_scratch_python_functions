{
 "cells": [
  {
   "cell_type": "markdown",
   "id": "d9955365",
   "metadata": {},
   "source": [
    "## **Here, I demonstrate the usage of the math operations functions.**"
   ]
  },
  {
   "cell_type": "markdown",
   "id": "89392872",
   "metadata": {},
   "source": [
    "### A. my_sum demos."
   ]
  },
  {
   "cell_type": "markdown",
   "id": "ccf677ef",
   "metadata": {},
   "source": [
    "#### Demo A1. level_01_my_sum() demo."
   ]
  },
  {
   "cell_type": "code",
   "execution_count": 2,
   "id": "cc4b082c",
   "metadata": {},
   "outputs": [
    {
     "ename": "ModuleNotFoundError",
     "evalue": "No module named 'from_scratch_src'",
     "output_type": "error",
     "traceback": [
      "\u001b[31m---------------------------------------------------------------------------\u001b[39m",
      "\u001b[31mModuleNotFoundError\u001b[39m                       Traceback (most recent call last)",
      "\u001b[36mCell\u001b[39m\u001b[36m \u001b[39m\u001b[32mIn[2]\u001b[39m\u001b[32m, line 1\u001b[39m\n\u001b[32m----> \u001b[39m\u001b[32m1\u001b[39m \u001b[38;5;28;01mfrom\u001b[39;00m\u001b[38;5;250m \u001b[39m\u001b[34;01mfrom_scratch_src\u001b[39;00m\u001b[34;01m.\u001b[39;00m\u001b[34;01mmy_sum\u001b[39;00m\u001b[38;5;250m \u001b[39m\u001b[38;5;28;01mimport\u001b[39;00m level_01_my_sum \u001b[38;5;28;01mas\u001b[39;00m l1_sum\n",
      "\u001b[31mModuleNotFoundError\u001b[39m: No module named 'from_scratch_src'"
     ]
    }
   ],
   "source": [
    "from from_scratch_src.my_sum import level_01_my_sum as l1_sum"
   ]
  },
  {
   "cell_type": "markdown",
   "id": "f3d0c25d",
   "metadata": {},
   "source": [
    "Case 1: Empty List/Tuple"
   ]
  },
  {
   "cell_type": "code",
   "execution_count": null,
   "id": "751b5257",
   "metadata": {},
   "outputs": [],
   "source": [
    "empty_list = []\n",
    "empty_tuple = ()\n",
    "sum_empty_list, sum_empty_tuple = l1_sum(empty_list), l1_sum(empty_tuple)\n",
    "print(f\"List total = {sum_empty_list}\\nTuple total = {sum_empty_tuple}\")"
   ]
  },
  {
   "cell_type": "markdown",
   "id": "265cad94",
   "metadata": {},
   "source": [
    "Case 1: Non-Empty List/Tuple with proper type objects"
   ]
  },
  {
   "cell_type": "code",
   "execution_count": null,
   "id": "274137b6",
   "metadata": {},
   "outputs": [],
   "source": [
    "empty_list = [1, 2, 3, 4, 5]\n",
    "empty_tuple = ()\n",
    "sum_empty_list, sum_empty_tuple = l1_sum(empty_list), l1_sum(empty_tuple)\n",
    "print(f\"List total = {sum_empty_list}\\nTuple total = {sum_empty_tuple}\")"
   ]
  },
  {
   "cell_type": "code",
   "execution_count": null,
   "id": "f93d79ee",
   "metadata": {},
   "outputs": [],
   "source": []
  }
 ],
 "metadata": {
  "kernelspec": {
   "display_name": "base",
   "language": "python",
   "name": "python3"
  },
  "language_info": {
   "codemirror_mode": {
    "name": "ipython",
    "version": 3
   },
   "file_extension": ".py",
   "mimetype": "text/x-python",
   "name": "python",
   "nbconvert_exporter": "python",
   "pygments_lexer": "ipython3",
   "version": "3.12.10"
  }
 },
 "nbformat": 4,
 "nbformat_minor": 5
}
