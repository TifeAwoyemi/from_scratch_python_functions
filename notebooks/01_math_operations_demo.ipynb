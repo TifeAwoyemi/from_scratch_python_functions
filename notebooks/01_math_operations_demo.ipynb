{
 "cells": [
  {
   "cell_type": "markdown",
   "id": "d9955365",
   "metadata": {},
   "source": [
    "## **Here, I demonstrate the usage of the math operations functions.**"
   ]
  },
  {
   "cell_type": "markdown",
   "id": "89392872",
   "metadata": {},
   "source": [
    "### A. my_sum demos."
   ]
  },
  {
   "cell_type": "markdown",
   "id": "ccf677ef",
   "metadata": {},
   "source": [
    "#### Demo A1. level_01_my_sum() demo."
   ]
  },
  {
   "cell_type": "code",
   "execution_count": 1,
   "id": "4587d90e",
   "metadata": {},
   "outputs": [
    {
     "name": "stdout",
     "output_type": "stream",
     "text": [
      "Project root added to path: c:\\Users\\bawoyemi\\from_scratch_python_functions\n",
      "Current working directory: c:\\Users\\bawoyemi\\from_scratch_python_functions\\notebooks\n",
      "Python path now includes: ['c:\\\\Users\\\\bawoyemi\\\\from_scratch_python_functions']\n"
     ]
    }
   ],
   "source": [
    "# Fix Python path to allow imports from project root\n",
    "import sys\n",
    "import os\n",
    "\n",
    "# Add the project root directory to Python path\n",
    "# Go up one level from notebooks directory to get to project root\n",
    "project_root = os.path.dirname(os.getcwd())\n",
    "if project_root not in sys.path:\n",
    "    sys.path.insert(0, project_root)\n",
    "\n",
    "print(f\"Project root added to path: {project_root}\")\n",
    "print(f\"Current working directory: {os.getcwd()}\")\n",
    "print(f\"Python path now includes: {[p for p in sys.path if 'from_scratch_python_functions' in p]}\")"
   ]
  },
  {
   "cell_type": "code",
   "execution_count": 2,
   "id": "cc4b082c",
   "metadata": {},
   "outputs": [],
   "source": [
    "from from_scratch_src.my_sum import level_01_my_sum as l1_sum"
   ]
  },
  {
   "cell_type": "markdown",
   "id": "f3d0c25d",
   "metadata": {},
   "source": [
    "Case 1: Empty List/Tuple"
   ]
  },
  {
   "cell_type": "code",
   "execution_count": 3,
   "id": "751b5257",
   "metadata": {},
   "outputs": [
    {
     "name": "stdout",
     "output_type": "stream",
     "text": [
      "List total = 0\n",
      "Tuple total = 0\n"
     ]
    }
   ],
   "source": [
    "empty_list = []\n",
    "empty_tuple = ()\n",
    "sum_empty_list, sum_empty_tuple = l1_sum(empty_list), l1_sum(empty_tuple)\n",
    "print(f\"List total = {sum_empty_list}\\nTuple total = {sum_empty_tuple}\")"
   ]
  },
  {
   "cell_type": "markdown",
   "id": "265cad94",
   "metadata": {},
   "source": [
    "Case 2: Non-Empty List/Tuple with proper type objects"
   ]
  },
  {
   "cell_type": "code",
   "execution_count": 4,
   "id": "274137b6",
   "metadata": {},
   "outputs": [
    {
     "name": "stdout",
     "output_type": "stream",
     "text": [
      "List total = 15\n",
      "Tuple total = 15.0\n"
     ]
    }
   ],
   "source": [
    "my_list = [1, 2, 3, 4, 5]\n",
    "my_tuple = (1, 2, 3.0, 4, 5.0)\n",
    "sum_my_list, sum_my_tuple = l1_sum(my_list), l1_sum(my_tuple)\n",
    "print(f\"List total = {sum_my_list}\\nTuple total = {sum_my_tuple}\")"
   ]
  },
  {
   "cell_type": "markdown",
   "id": "7f6d2dd6",
   "metadata": {},
   "source": [
    "Case 3: Non-Empty List with improper type objects"
   ]
  },
  {
   "cell_type": "code",
   "execution_count": 5,
   "id": "f93d79ee",
   "metadata": {},
   "outputs": [
    {
     "ename": "TypeError",
     "evalue": "unsupported operand type(s) for +=: 'int' and 'str'",
     "output_type": "error",
     "traceback": [
      "\u001b[31m---------------------------------------------------------------------------\u001b[39m",
      "\u001b[31mTypeError\u001b[39m                                 Traceback (most recent call last)",
      "\u001b[36mCell\u001b[39m\u001b[36m \u001b[39m\u001b[32mIn[5]\u001b[39m\u001b[32m, line 2\u001b[39m\n\u001b[32m      1\u001b[39m my_list = [\u001b[32m1\u001b[39m, \u001b[33m\"\u001b[39m\u001b[33m2\u001b[39m\u001b[33m\"\u001b[39m, \u001b[32m3\u001b[39m, \u001b[32m4\u001b[39m, \u001b[32m5\u001b[39m]\n\u001b[32m----> \u001b[39m\u001b[32m2\u001b[39m sum_my_list= \u001b[43ml1_sum\u001b[49m\u001b[43m(\u001b[49m\u001b[43mmy_list\u001b[49m\u001b[43m)\u001b[49m\n\u001b[32m      3\u001b[39m \u001b[38;5;28mprint\u001b[39m(\u001b[33mf\u001b[39m\u001b[33m\"\u001b[39m\u001b[33mList total = \u001b[39m\u001b[38;5;132;01m{\u001b[39;00msum_my_list\u001b[38;5;132;01m}\u001b[39;00m\u001b[33m\"\u001b[39m)\n",
      "\u001b[36mFile \u001b[39m\u001b[32mc:\\Users\\bawoyemi\\from_scratch_python_functions\\from_scratch_src\\my_sum.py:31\u001b[39m, in \u001b[36mlevel_01_my_sum\u001b[39m\u001b[34m(obj)\u001b[39m\n\u001b[32m     28\u001b[39m cum_sum = \u001b[32m0\u001b[39m\n\u001b[32m     30\u001b[39m \u001b[38;5;28;01mfor\u001b[39;00m i \u001b[38;5;129;01min\u001b[39;00m obj:\n\u001b[32m---> \u001b[39m\u001b[32m31\u001b[39m     \u001b[43mcum_sum\u001b[49m\u001b[43m \u001b[49m\u001b[43m+\u001b[49m\u001b[43m=\u001b[49m\u001b[43m \u001b[49m\u001b[43mi\u001b[49m\n\u001b[32m     33\u001b[39m \u001b[38;5;28;01mreturn\u001b[39;00m cum_sum\n",
      "\u001b[31mTypeError\u001b[39m: unsupported operand type(s) for +=: 'int' and 'str'"
     ]
    }
   ],
   "source": [
    "my_list = [1, \"2\", 3, 4, 5]\n",
    "sum_my_list= l1_sum(my_list)\n",
    "print(f\"List total = {sum_my_list}\")"
   ]
  },
  {
   "cell_type": "code",
   "execution_count": 6,
   "id": "7f3c32ed",
   "metadata": {},
   "outputs": [
    {
     "ename": "TypeError",
     "evalue": "'int' object is not iterable",
     "output_type": "error",
     "traceback": [
      "\u001b[31m---------------------------------------------------------------------------\u001b[39m",
      "\u001b[31mTypeError\u001b[39m                                 Traceback (most recent call last)",
      "\u001b[36mCell\u001b[39m\u001b[36m \u001b[39m\u001b[32mIn[6]\u001b[39m\u001b[32m, line 2\u001b[39m\n\u001b[32m      1\u001b[39m obj = \u001b[32m1\u001b[39m\n\u001b[32m----> \u001b[39m\u001b[32m2\u001b[39m sum_my_obj = \u001b[43ml1_sum\u001b[49m\u001b[43m(\u001b[49m\u001b[43mobj\u001b[49m\u001b[43m)\u001b[49m\n\u001b[32m      3\u001b[39m \u001b[38;5;28mprint\u001b[39m(\u001b[33mf\u001b[39m\u001b[33m\"\u001b[39m\u001b[33mObj total = \u001b[39m\u001b[38;5;132;01m{\u001b[39;00msum_my_obj\u001b[38;5;132;01m}\u001b[39;00m\u001b[33m\"\u001b[39m)\n",
      "\u001b[36mFile \u001b[39m\u001b[32mc:\\Users\\bawoyemi\\from_scratch_python_functions\\from_scratch_src\\my_sum.py:30\u001b[39m, in \u001b[36mlevel_01_my_sum\u001b[39m\u001b[34m(obj)\u001b[39m\n\u001b[32m     18\u001b[39m \u001b[38;5;250m\u001b[39m\u001b[33;03m\"\"\"\u001b[39;00m\n\u001b[32m     19\u001b[39m \u001b[33;03mThis calculates the sum of all elements in an iterable with integers and or floats.\u001b[39;00m\n\u001b[32m     20\u001b[39m \u001b[33;03mIt uses a \"for loop\".\u001b[39;00m\n\u001b[32m   (...)\u001b[39m\u001b[32m     26\u001b[39m \u001b[33;03m    cum_sum (int, float): A value that represents the sum of all elements in iterable\u001b[39;00m\n\u001b[32m     27\u001b[39m \u001b[33;03m\"\"\"\u001b[39;00m\n\u001b[32m     28\u001b[39m cum_sum = \u001b[32m0\u001b[39m\n\u001b[32m---> \u001b[39m\u001b[32m30\u001b[39m \u001b[43m\u001b[49m\u001b[38;5;28;43;01mfor\u001b[39;49;00m\u001b[43m \u001b[49m\u001b[43mi\u001b[49m\u001b[43m \u001b[49m\u001b[38;5;129;43;01min\u001b[39;49;00m\u001b[43m \u001b[49m\u001b[43mobj\u001b[49m\u001b[43m:\u001b[49m\n\u001b[32m     31\u001b[39m \u001b[43m    \u001b[49m\u001b[43mcum_sum\u001b[49m\u001b[43m \u001b[49m\u001b[43m+\u001b[49m\u001b[43m=\u001b[49m\u001b[43m \u001b[49m\u001b[43mi\u001b[49m\n\u001b[32m     33\u001b[39m \u001b[38;5;28;01mreturn\u001b[39;00m cum_sum\n",
      "\u001b[31mTypeError\u001b[39m: 'int' object is not iterable"
     ]
    }
   ],
   "source": [
    "obj = 1\n",
    "sum_my_obj = l1_sum(obj)\n",
    "print(f\"Obj total = {sum_my_obj}\")"
   ]
  },
  {
   "cell_type": "code",
   "execution_count": 7,
   "id": "a863c3b9",
   "metadata": {},
   "outputs": [
    {
     "ename": "TypeError",
     "evalue": "unsupported operand type(s) for +=: 'int' and 'str'",
     "output_type": "error",
     "traceback": [
      "\u001b[31m---------------------------------------------------------------------------\u001b[39m",
      "\u001b[31mTypeError\u001b[39m                                 Traceback (most recent call last)",
      "\u001b[36mCell\u001b[39m\u001b[36m \u001b[39m\u001b[32mIn[7]\u001b[39m\u001b[32m, line 2\u001b[39m\n\u001b[32m      1\u001b[39m obj = \u001b[33m\"\u001b[39m\u001b[33m1\u001b[39m\u001b[33m\"\u001b[39m\n\u001b[32m----> \u001b[39m\u001b[32m2\u001b[39m sum_my_obj = \u001b[43ml1_sum\u001b[49m\u001b[43m(\u001b[49m\u001b[43mobj\u001b[49m\u001b[43m)\u001b[49m\n\u001b[32m      3\u001b[39m \u001b[38;5;28mprint\u001b[39m(\u001b[33mf\u001b[39m\u001b[33m\"\u001b[39m\u001b[33mObj total = \u001b[39m\u001b[38;5;132;01m{\u001b[39;00msum_my_obj\u001b[38;5;132;01m}\u001b[39;00m\u001b[33m\"\u001b[39m)\n",
      "\u001b[36mFile \u001b[39m\u001b[32mc:\\Users\\bawoyemi\\from_scratch_python_functions\\from_scratch_src\\my_sum.py:31\u001b[39m, in \u001b[36mlevel_01_my_sum\u001b[39m\u001b[34m(obj)\u001b[39m\n\u001b[32m     28\u001b[39m cum_sum = \u001b[32m0\u001b[39m\n\u001b[32m     30\u001b[39m \u001b[38;5;28;01mfor\u001b[39;00m i \u001b[38;5;129;01min\u001b[39;00m obj:\n\u001b[32m---> \u001b[39m\u001b[32m31\u001b[39m     \u001b[43mcum_sum\u001b[49m\u001b[43m \u001b[49m\u001b[43m+\u001b[49m\u001b[43m=\u001b[49m\u001b[43m \u001b[49m\u001b[43mi\u001b[49m\n\u001b[32m     33\u001b[39m \u001b[38;5;28;01mreturn\u001b[39;00m cum_sum\n",
      "\u001b[31mTypeError\u001b[39m: unsupported operand type(s) for +=: 'int' and 'str'"
     ]
    }
   ],
   "source": [
    "obj = \"1\"\n",
    "sum_my_obj = l1_sum(obj)\n",
    "print(f\"Obj total = {sum_my_obj}\")"
   ]
  },
  {
   "cell_type": "markdown",
   "id": "276f2c47",
   "metadata": {},
   "source": [
    "#### Demo A2. level_02_my_sum() demo."
   ]
  },
  {
   "cell_type": "code",
   "execution_count": 8,
   "id": "d3040ea1",
   "metadata": {},
   "outputs": [],
   "source": [
    "from from_scratch_src.my_sum import level_02_my_sum as l2_sum"
   ]
  },
  {
   "cell_type": "markdown",
   "id": "181b50f8",
   "metadata": {},
   "source": [
    "Case 1: Empty List/Tuple"
   ]
  },
  {
   "cell_type": "code",
   "execution_count": 9,
   "id": "46293289",
   "metadata": {},
   "outputs": [
    {
     "name": "stdout",
     "output_type": "stream",
     "text": [
      "List total = 0\n",
      "Tuple total = 0\n"
     ]
    }
   ],
   "source": [
    "empty_list = []\n",
    "empty_tuple = ()\n",
    "sum_empty_list, sum_empty_tuple = l2_sum(empty_list), l2_sum(empty_tuple)\n",
    "print(f\"List total = {sum_empty_list}\\nTuple total = {sum_empty_tuple}\")"
   ]
  },
  {
   "cell_type": "markdown",
   "id": "d2c669bb",
   "metadata": {},
   "source": [
    "Case 2: Non-Empty List/Tuple with proper type objects"
   ]
  },
  {
   "cell_type": "code",
   "execution_count": 10,
   "id": "fb713c08",
   "metadata": {},
   "outputs": [
    {
     "name": "stdout",
     "output_type": "stream",
     "text": [
      "List total = 15\n",
      "Tuple total = 15.0\n"
     ]
    }
   ],
   "source": [
    "my_list = [1, 2, 3, 4, 5]\n",
    "my_tuple = (1, 2, 3.0, 4, 5.0)\n",
    "sum_my_list, sum_my_tuple = l2_sum(my_list), l2_sum(my_tuple)\n",
    "print(f\"List total = {sum_my_list}\\nTuple total = {sum_my_tuple}\")"
   ]
  },
  {
   "cell_type": "markdown",
   "id": "6a197627",
   "metadata": {},
   "source": [
    "Case 3: Non-Empty List with improper type objects"
   ]
  },
  {
   "cell_type": "code",
   "execution_count": 11,
   "id": "7bedba41",
   "metadata": {},
   "outputs": [
    {
     "ename": "TypeError",
     "evalue": "unsupported operand type(s) for +=: 'int' and 'str'",
     "output_type": "error",
     "traceback": [
      "\u001b[31m---------------------------------------------------------------------------\u001b[39m",
      "\u001b[31mTypeError\u001b[39m                                 Traceback (most recent call last)",
      "\u001b[36mCell\u001b[39m\u001b[36m \u001b[39m\u001b[32mIn[11]\u001b[39m\u001b[32m, line 2\u001b[39m\n\u001b[32m      1\u001b[39m my_list = [\u001b[32m1\u001b[39m, \u001b[33m\"\u001b[39m\u001b[33m2\u001b[39m\u001b[33m\"\u001b[39m, \u001b[32m3\u001b[39m, \u001b[32m4\u001b[39m, \u001b[32m5\u001b[39m]\n\u001b[32m----> \u001b[39m\u001b[32m2\u001b[39m sum_my_list= \u001b[43ml2_sum\u001b[49m\u001b[43m(\u001b[49m\u001b[43mmy_list\u001b[49m\u001b[43m)\u001b[49m\n\u001b[32m      3\u001b[39m \u001b[38;5;28mprint\u001b[39m(\u001b[33mf\u001b[39m\u001b[33m\"\u001b[39m\u001b[33mList total = \u001b[39m\u001b[38;5;132;01m{\u001b[39;00msum_my_list\u001b[38;5;132;01m}\u001b[39;00m\u001b[33m\"\u001b[39m)\n",
      "\u001b[36mFile \u001b[39m\u001b[32mc:\\Users\\bawoyemi\\from_scratch_python_functions\\from_scratch_src\\my_sum.py:51\u001b[39m, in \u001b[36mlevel_02_my_sum\u001b[39m\u001b[34m(obj)\u001b[39m\n\u001b[32m     49\u001b[39m \u001b[38;5;28;01mwhile\u001b[39;00m \u001b[38;5;28;01mTrue\u001b[39;00m:\n\u001b[32m     50\u001b[39m     \u001b[38;5;28;01mtry\u001b[39;00m:\n\u001b[32m---> \u001b[39m\u001b[32m51\u001b[39m         \u001b[43mcum_sum\u001b[49m\u001b[43m \u001b[49m\u001b[43m+\u001b[49m\u001b[43m=\u001b[49m\u001b[43m \u001b[49m\u001b[38;5;28;43mnext\u001b[39;49m\u001b[43m(\u001b[49m\u001b[43mgiven_obj\u001b[49m\u001b[43m)\u001b[49m\n\u001b[32m     52\u001b[39m     \u001b[38;5;28;01mexcept\u001b[39;00m \u001b[38;5;167;01mStopIteration\u001b[39;00m:\n\u001b[32m     53\u001b[39m         \u001b[38;5;28;01mbreak\u001b[39;00m\n",
      "\u001b[31mTypeError\u001b[39m: unsupported operand type(s) for +=: 'int' and 'str'"
     ]
    }
   ],
   "source": [
    "my_list = [1, \"2\", 3, 4, 5]\n",
    "sum_my_list= l2_sum(my_list)\n",
    "print(f\"List total = {sum_my_list}\")"
   ]
  },
  {
   "cell_type": "code",
   "execution_count": 13,
   "id": "c5f5604f",
   "metadata": {},
   "outputs": [
    {
     "ename": "TypeError",
     "evalue": "'int' object is not iterable",
     "output_type": "error",
     "traceback": [
      "\u001b[31m---------------------------------------------------------------------------\u001b[39m",
      "\u001b[31mTypeError\u001b[39m                                 Traceback (most recent call last)",
      "\u001b[36mCell\u001b[39m\u001b[36m \u001b[39m\u001b[32mIn[13]\u001b[39m\u001b[32m, line 2\u001b[39m\n\u001b[32m      1\u001b[39m obj = \u001b[32m1\u001b[39m\n\u001b[32m----> \u001b[39m\u001b[32m2\u001b[39m sum_my_obj = \u001b[43ml2_sum\u001b[49m\u001b[43m(\u001b[49m\u001b[43mobj\u001b[49m\u001b[43m)\u001b[49m\n\u001b[32m      3\u001b[39m \u001b[38;5;28mprint\u001b[39m(\u001b[33mf\u001b[39m\u001b[33m\"\u001b[39m\u001b[33mObj total = \u001b[39m\u001b[38;5;132;01m{\u001b[39;00msum_my_obj\u001b[38;5;132;01m}\u001b[39;00m\u001b[33m\"\u001b[39m)\n",
      "\u001b[36mFile \u001b[39m\u001b[32mc:\\Users\\bawoyemi\\from_scratch_python_functions\\from_scratch_src\\my_sum.py:48\u001b[39m, in \u001b[36mlevel_02_my_sum\u001b[39m\u001b[34m(obj)\u001b[39m\n\u001b[32m     36\u001b[39m \u001b[38;5;250m\u001b[39m\u001b[33;03m\"\"\"\u001b[39;00m\n\u001b[32m     37\u001b[39m \u001b[33;03mThis calculates the sum of all elements in an iterable with integers and or floats.\u001b[39;00m\n\u001b[32m     38\u001b[39m \u001b[33;03mIt uses the iter() and next() functions.\u001b[39;00m\n\u001b[32m   (...)\u001b[39m\u001b[32m     44\u001b[39m \u001b[33;03m    cum_sum (int, float): A value that represents the sum of all elements in iterable\u001b[39;00m\n\u001b[32m     45\u001b[39m \u001b[33;03m\"\"\"\u001b[39;00m\n\u001b[32m     47\u001b[39m cum_sum = \u001b[32m0\u001b[39m\n\u001b[32m---> \u001b[39m\u001b[32m48\u001b[39m given_obj = \u001b[38;5;28;43miter\u001b[39;49m\u001b[43m(\u001b[49m\u001b[43mobj\u001b[49m\u001b[43m)\u001b[49m\n\u001b[32m     49\u001b[39m \u001b[38;5;28;01mwhile\u001b[39;00m \u001b[38;5;28;01mTrue\u001b[39;00m:\n\u001b[32m     50\u001b[39m     \u001b[38;5;28;01mtry\u001b[39;00m:\n",
      "\u001b[31mTypeError\u001b[39m: 'int' object is not iterable"
     ]
    }
   ],
   "source": [
    "obj = 1\n",
    "sum_my_obj = l2_sum(obj)\n",
    "print(f\"Obj total = {sum_my_obj}\")"
   ]
  },
  {
   "cell_type": "code",
   "execution_count": 14,
   "id": "1f7558d2",
   "metadata": {},
   "outputs": [
    {
     "ename": "TypeError",
     "evalue": "unsupported operand type(s) for +=: 'int' and 'str'",
     "output_type": "error",
     "traceback": [
      "\u001b[31m---------------------------------------------------------------------------\u001b[39m",
      "\u001b[31mTypeError\u001b[39m                                 Traceback (most recent call last)",
      "\u001b[36mCell\u001b[39m\u001b[36m \u001b[39m\u001b[32mIn[14]\u001b[39m\u001b[32m, line 2\u001b[39m\n\u001b[32m      1\u001b[39m obj = \u001b[33m\"\u001b[39m\u001b[33m1\u001b[39m\u001b[33m\"\u001b[39m\n\u001b[32m----> \u001b[39m\u001b[32m2\u001b[39m sum_my_obj = \u001b[43ml2_sum\u001b[49m\u001b[43m(\u001b[49m\u001b[43mobj\u001b[49m\u001b[43m)\u001b[49m\n\u001b[32m      3\u001b[39m \u001b[38;5;28mprint\u001b[39m(\u001b[33mf\u001b[39m\u001b[33m\"\u001b[39m\u001b[33mObj total = \u001b[39m\u001b[38;5;132;01m{\u001b[39;00msum_my_obj\u001b[38;5;132;01m}\u001b[39;00m\u001b[33m\"\u001b[39m)\n",
      "\u001b[36mFile \u001b[39m\u001b[32mc:\\Users\\bawoyemi\\from_scratch_python_functions\\from_scratch_src\\my_sum.py:51\u001b[39m, in \u001b[36mlevel_02_my_sum\u001b[39m\u001b[34m(obj)\u001b[39m\n\u001b[32m     49\u001b[39m \u001b[38;5;28;01mwhile\u001b[39;00m \u001b[38;5;28;01mTrue\u001b[39;00m:\n\u001b[32m     50\u001b[39m     \u001b[38;5;28;01mtry\u001b[39;00m:\n\u001b[32m---> \u001b[39m\u001b[32m51\u001b[39m         \u001b[43mcum_sum\u001b[49m\u001b[43m \u001b[49m\u001b[43m+\u001b[49m\u001b[43m=\u001b[49m\u001b[43m \u001b[49m\u001b[38;5;28;43mnext\u001b[39;49m\u001b[43m(\u001b[49m\u001b[43mgiven_obj\u001b[49m\u001b[43m)\u001b[49m\n\u001b[32m     52\u001b[39m     \u001b[38;5;28;01mexcept\u001b[39;00m \u001b[38;5;167;01mStopIteration\u001b[39;00m:\n\u001b[32m     53\u001b[39m         \u001b[38;5;28;01mbreak\u001b[39;00m\n",
      "\u001b[31mTypeError\u001b[39m: unsupported operand type(s) for +=: 'int' and 'str'"
     ]
    }
   ],
   "source": [
    "obj = \"1\"\n",
    "sum_my_obj = l2_sum(obj)\n",
    "print(f\"Obj total = {sum_my_obj}\")"
   ]
  },
  {
   "cell_type": "markdown",
   "id": "7c9b1428",
   "metadata": {},
   "source": [
    "#### Demo A3. level_03_my_sum() demo."
   ]
  },
  {
   "cell_type": "code",
   "execution_count": 15,
   "id": "0e89337b",
   "metadata": {},
   "outputs": [],
   "source": [
    "from from_scratch_src.my_sum import level_03_my_sum as l3_sum"
   ]
  },
  {
   "cell_type": "markdown",
   "id": "c67e2e86",
   "metadata": {},
   "source": [
    "Case 1: Empty List/Tuple"
   ]
  },
  {
   "cell_type": "code",
   "execution_count": 16,
   "id": "b6621ac0",
   "metadata": {},
   "outputs": [
    {
     "name": "stdout",
     "output_type": "stream",
     "text": [
      "List total = 0\n",
      "Tuple total = 0\n"
     ]
    }
   ],
   "source": [
    "empty_list = []\n",
    "empty_tuple = ()\n",
    "sum_empty_list, sum_empty_tuple = l3_sum(empty_list), l3_sum(empty_tuple)\n",
    "print(f\"List total = {sum_empty_list}\\nTuple total = {sum_empty_tuple}\")"
   ]
  },
  {
   "cell_type": "markdown",
   "id": "50dd08d8",
   "metadata": {},
   "source": [
    "Case 2: Non-Empty List/Tuple with proper type objects"
   ]
  },
  {
   "cell_type": "code",
   "execution_count": 17,
   "id": "bb65f7ac",
   "metadata": {},
   "outputs": [
    {
     "name": "stdout",
     "output_type": "stream",
     "text": [
      "List total = 15\n",
      "Tuple total = 15.0\n"
     ]
    }
   ],
   "source": [
    "my_list = [1, 2, 3, 4, 5]\n",
    "my_tuple = (1, 2, 3.0, 4, 5.0)\n",
    "sum_my_list, sum_my_tuple = l3_sum(my_list), l3_sum(my_tuple)\n",
    "print(f\"List total = {sum_my_list}\\nTuple total = {sum_my_tuple}\")"
   ]
  },
  {
   "cell_type": "markdown",
   "id": "25b7e902",
   "metadata": {},
   "source": [
    "Case 3: Non-Empty List with improper type objects"
   ]
  },
  {
   "cell_type": "code",
   "execution_count": 18,
   "id": "e93993c3",
   "metadata": {},
   "outputs": [
    {
     "ename": "TypeError",
     "evalue": "unsupported operand type(s) for +=: 'int' and 'str'",
     "output_type": "error",
     "traceback": [
      "\u001b[31m---------------------------------------------------------------------------\u001b[39m",
      "\u001b[31mTypeError\u001b[39m                                 Traceback (most recent call last)",
      "\u001b[36mCell\u001b[39m\u001b[36m \u001b[39m\u001b[32mIn[18]\u001b[39m\u001b[32m, line 2\u001b[39m\n\u001b[32m      1\u001b[39m my_list = [\u001b[32m1\u001b[39m, \u001b[33m\"\u001b[39m\u001b[33m2\u001b[39m\u001b[33m\"\u001b[39m, \u001b[32m3\u001b[39m, \u001b[32m4\u001b[39m, \u001b[32m5\u001b[39m]\n\u001b[32m----> \u001b[39m\u001b[32m2\u001b[39m sum_my_list= \u001b[43ml3_sum\u001b[49m\u001b[43m(\u001b[49m\u001b[43mmy_list\u001b[49m\u001b[43m)\u001b[49m\n\u001b[32m      3\u001b[39m \u001b[38;5;28mprint\u001b[39m(\u001b[33mf\u001b[39m\u001b[33m\"\u001b[39m\u001b[33mList total = \u001b[39m\u001b[38;5;132;01m{\u001b[39;00msum_my_list\u001b[38;5;132;01m}\u001b[39;00m\u001b[33m\"\u001b[39m)\n",
      "\u001b[36mFile \u001b[39m\u001b[32mc:\\Users\\bawoyemi\\from_scratch_python_functions\\from_scratch_src\\my_sum.py:73\u001b[39m, in \u001b[36mlevel_03_my_sum\u001b[39m\u001b[34m(obj)\u001b[39m\n\u001b[32m     71\u001b[39m \u001b[38;5;28;01mwhile\u001b[39;00m \u001b[38;5;28;01mTrue\u001b[39;00m:\n\u001b[32m     72\u001b[39m     \u001b[38;5;28;01mtry\u001b[39;00m:\n\u001b[32m---> \u001b[39m\u001b[32m73\u001b[39m         \u001b[43mcum_sum\u001b[49m\u001b[43m \u001b[49m\u001b[43m+\u001b[49m\u001b[43m=\u001b[49m\u001b[43m \u001b[49m\u001b[43mgiven_obj\u001b[49m\u001b[43m.\u001b[49m\u001b[34;43m__next__\u001b[39;49m\u001b[43m(\u001b[49m\u001b[43m)\u001b[49m\n\u001b[32m     74\u001b[39m     \u001b[38;5;28;01mexcept\u001b[39;00m \u001b[38;5;167;01mStopIteration\u001b[39;00m:\n\u001b[32m     75\u001b[39m         \u001b[38;5;28;01mbreak\u001b[39;00m\n",
      "\u001b[31mTypeError\u001b[39m: unsupported operand type(s) for +=: 'int' and 'str'"
     ]
    }
   ],
   "source": [
    "my_list = [1, \"2\", 3, 4, 5]\n",
    "sum_my_list= l3_sum(my_list)\n",
    "print(f\"List total = {sum_my_list}\")"
   ]
  },
  {
   "cell_type": "code",
   "execution_count": 19,
   "id": "f15094e4",
   "metadata": {},
   "outputs": [
    {
     "ename": "AttributeError",
     "evalue": "'int' object has no attribute '__iter__'",
     "output_type": "error",
     "traceback": [
      "\u001b[31m---------------------------------------------------------------------------\u001b[39m",
      "\u001b[31mAttributeError\u001b[39m                            Traceback (most recent call last)",
      "\u001b[36mCell\u001b[39m\u001b[36m \u001b[39m\u001b[32mIn[19]\u001b[39m\u001b[32m, line 2\u001b[39m\n\u001b[32m      1\u001b[39m obj = \u001b[32m1\u001b[39m\n\u001b[32m----> \u001b[39m\u001b[32m2\u001b[39m sum_my_obj = \u001b[43ml3_sum\u001b[49m\u001b[43m(\u001b[49m\u001b[43mobj\u001b[49m\u001b[43m)\u001b[49m\n\u001b[32m      3\u001b[39m \u001b[38;5;28mprint\u001b[39m(\u001b[33mf\u001b[39m\u001b[33m\"\u001b[39m\u001b[33mObj total = \u001b[39m\u001b[38;5;132;01m{\u001b[39;00msum_my_obj\u001b[38;5;132;01m}\u001b[39;00m\u001b[33m\"\u001b[39m)\n",
      "\u001b[36mFile \u001b[39m\u001b[32mc:\\Users\\bawoyemi\\from_scratch_python_functions\\from_scratch_src\\my_sum.py:70\u001b[39m, in \u001b[36mlevel_03_my_sum\u001b[39m\u001b[34m(obj)\u001b[39m\n\u001b[32m     58\u001b[39m \u001b[38;5;250m\u001b[39m\u001b[33;03m\"\"\"\u001b[39;00m\n\u001b[32m     59\u001b[39m \u001b[33;03mThis calculates the sum of all elements in an iterable with integers and or floats.\u001b[39;00m\n\u001b[32m     60\u001b[39m \u001b[33;03mIt uses the __iter__() and __next__() methods.\u001b[39;00m\n\u001b[32m   (...)\u001b[39m\u001b[32m     66\u001b[39m \u001b[33;03m    cum_sum (int, float): A value that represents the sum of all elements in iterable\u001b[39;00m\n\u001b[32m     67\u001b[39m \u001b[33;03m\"\"\"\u001b[39;00m\n\u001b[32m     69\u001b[39m cum_sum = \u001b[32m0\u001b[39m\n\u001b[32m---> \u001b[39m\u001b[32m70\u001b[39m given_obj = \u001b[43mobj\u001b[49m\u001b[43m.\u001b[49m\u001b[34;43m__iter__\u001b[39;49m()\n\u001b[32m     71\u001b[39m \u001b[38;5;28;01mwhile\u001b[39;00m \u001b[38;5;28;01mTrue\u001b[39;00m:\n\u001b[32m     72\u001b[39m     \u001b[38;5;28;01mtry\u001b[39;00m:\n",
      "\u001b[31mAttributeError\u001b[39m: 'int' object has no attribute '__iter__'"
     ]
    }
   ],
   "source": [
    "obj = 1\n",
    "sum_my_obj = l3_sum(obj)\n",
    "print(f\"Obj total = {sum_my_obj}\")"
   ]
  },
  {
   "cell_type": "code",
   "execution_count": 20,
   "id": "c2ac206a",
   "metadata": {},
   "outputs": [
    {
     "ename": "TypeError",
     "evalue": "unsupported operand type(s) for +=: 'int' and 'str'",
     "output_type": "error",
     "traceback": [
      "\u001b[31m---------------------------------------------------------------------------\u001b[39m",
      "\u001b[31mTypeError\u001b[39m                                 Traceback (most recent call last)",
      "\u001b[36mCell\u001b[39m\u001b[36m \u001b[39m\u001b[32mIn[20]\u001b[39m\u001b[32m, line 2\u001b[39m\n\u001b[32m      1\u001b[39m obj = \u001b[33m\"\u001b[39m\u001b[33m1\u001b[39m\u001b[33m\"\u001b[39m\n\u001b[32m----> \u001b[39m\u001b[32m2\u001b[39m sum_my_obj = \u001b[43ml3_sum\u001b[49m\u001b[43m(\u001b[49m\u001b[43mobj\u001b[49m\u001b[43m)\u001b[49m\n\u001b[32m      3\u001b[39m \u001b[38;5;28mprint\u001b[39m(\u001b[33mf\u001b[39m\u001b[33m\"\u001b[39m\u001b[33mObj total = \u001b[39m\u001b[38;5;132;01m{\u001b[39;00msum_my_obj\u001b[38;5;132;01m}\u001b[39;00m\u001b[33m\"\u001b[39m)\n",
      "\u001b[36mFile \u001b[39m\u001b[32mc:\\Users\\bawoyemi\\from_scratch_python_functions\\from_scratch_src\\my_sum.py:73\u001b[39m, in \u001b[36mlevel_03_my_sum\u001b[39m\u001b[34m(obj)\u001b[39m\n\u001b[32m     71\u001b[39m \u001b[38;5;28;01mwhile\u001b[39;00m \u001b[38;5;28;01mTrue\u001b[39;00m:\n\u001b[32m     72\u001b[39m     \u001b[38;5;28;01mtry\u001b[39;00m:\n\u001b[32m---> \u001b[39m\u001b[32m73\u001b[39m         \u001b[43mcum_sum\u001b[49m\u001b[43m \u001b[49m\u001b[43m+\u001b[49m\u001b[43m=\u001b[49m\u001b[43m \u001b[49m\u001b[43mgiven_obj\u001b[49m\u001b[43m.\u001b[49m\u001b[34;43m__next__\u001b[39;49m\u001b[43m(\u001b[49m\u001b[43m)\u001b[49m\n\u001b[32m     74\u001b[39m     \u001b[38;5;28;01mexcept\u001b[39;00m \u001b[38;5;167;01mStopIteration\u001b[39;00m:\n\u001b[32m     75\u001b[39m         \u001b[38;5;28;01mbreak\u001b[39;00m\n",
      "\u001b[31mTypeError\u001b[39m: unsupported operand type(s) for +=: 'int' and 'str'"
     ]
    }
   ],
   "source": [
    "obj = \"1\"\n",
    "sum_my_obj = l3_sum(obj)\n",
    "print(f\"Obj total = {sum_my_obj}\")"
   ]
  },
  {
   "cell_type": "markdown",
   "id": "051259b8",
   "metadata": {},
   "source": [
    "### B. my_len demos."
   ]
  },
  {
   "cell_type": "markdown",
   "id": "40ab8561",
   "metadata": {},
   "source": [
    "#### Demo B1. my_sum demo."
   ]
  },
  {
   "cell_type": "code",
   "execution_count": 21,
   "id": "437054f2",
   "metadata": {},
   "outputs": [],
   "source": [
    "from from_scratch_src.my_len import level_01_my_len as l1_len"
   ]
  },
  {
   "cell_type": "markdown",
   "id": "34d99956",
   "metadata": {},
   "source": [
    "Case 1: Empty List/Tuple"
   ]
  },
  {
   "cell_type": "code",
   "execution_count": 24,
   "id": "9b3c3133",
   "metadata": {},
   "outputs": [
    {
     "name": "stdout",
     "output_type": "stream",
     "text": [
      "List length = 0\n",
      "Tuple length = 0\n"
     ]
    }
   ],
   "source": [
    "empty_list = []\n",
    "empty_tuple = ()\n",
    "len_empty_list, len_empty_tuple = l1_len(empty_list), l1_len(empty_tuple)\n",
    "print(f\"List length = {len_empty_list}\\nTuple length = {len_empty_tuple}\")"
   ]
  },
  {
   "cell_type": "markdown",
   "id": "834ed6f2",
   "metadata": {},
   "source": [
    "Case 2: Non-Empty List/Tuple with proper type objects"
   ]
  },
  {
   "cell_type": "code",
   "execution_count": 25,
   "id": "6314d20e",
   "metadata": {},
   "outputs": [
    {
     "name": "stdout",
     "output_type": "stream",
     "text": [
      "List length = 5\n",
      "Tuple length = 8\n"
     ]
    }
   ],
   "source": [
    "my_list = [1, 2, 3, 4, 5]\n",
    "my_tuple = (1, 2, 3.0, 4, 5.0, \"20\", \"blake\", [1, 5])\n",
    "len_my_list, len_my_tuple = l1_len(my_list), l1_len(my_tuple)\n",
    "print(f\"List length = {len_my_list}\\nTuple length = {len_my_tuple}\")"
   ]
  },
  {
   "cell_type": "code",
   "execution_count": 28,
   "id": "1750fd90",
   "metadata": {},
   "outputs": [
    {
     "name": "stdout",
     "output_type": "stream",
     "text": [
      "Obj total = 1\n"
     ]
    }
   ],
   "source": [
    "obj = \"1\"\n",
    "len_my_obj = l1_len(obj)\n",
    "print(f\"Obj total = {len_my_obj}\")"
   ]
  },
  {
   "cell_type": "markdown",
   "id": "4d8dd7dd",
   "metadata": {},
   "source": [
    "Case 3: Non-Empty List with improper type objects"
   ]
  },
  {
   "cell_type": "code",
   "execution_count": 26,
   "id": "c57e769f",
   "metadata": {},
   "outputs": [
    {
     "ename": "TypeError",
     "evalue": "'int' object is not iterable",
     "output_type": "error",
     "traceback": [
      "\u001b[31m---------------------------------------------------------------------------\u001b[39m",
      "\u001b[31mTypeError\u001b[39m                                 Traceback (most recent call last)",
      "\u001b[36mCell\u001b[39m\u001b[36m \u001b[39m\u001b[32mIn[26]\u001b[39m\u001b[32m, line 2\u001b[39m\n\u001b[32m      1\u001b[39m obj = \u001b[32m1\u001b[39m\n\u001b[32m----> \u001b[39m\u001b[32m2\u001b[39m len_my_obj = \u001b[43ml1_len\u001b[49m\u001b[43m(\u001b[49m\u001b[43mobj\u001b[49m\u001b[43m)\u001b[49m\n\u001b[32m      3\u001b[39m \u001b[38;5;28mprint\u001b[39m(\u001b[33mf\u001b[39m\u001b[33m\"\u001b[39m\u001b[33mObj total = \u001b[39m\u001b[38;5;132;01m{\u001b[39;00mlen_my_obj\u001b[38;5;132;01m}\u001b[39;00m\u001b[33m\"\u001b[39m)\n",
      "\u001b[36mFile \u001b[39m\u001b[32mc:\\Users\\bawoyemi\\from_scratch_python_functions\\from_scratch_src\\my_len.py:28\u001b[39m, in \u001b[36mlevel_01_my_len\u001b[39m\u001b[34m(obj)\u001b[39m\n\u001b[32m     16\u001b[39m \u001b[38;5;250m\u001b[39m\u001b[33;03m\"\"\"\u001b[39;00m\n\u001b[32m     17\u001b[39m \u001b[33;03mThis counts the number of elements in an iterable with integers and or floats.\u001b[39;00m\n\u001b[32m     18\u001b[39m \u001b[33;03mIt uses a \"for loop\".\u001b[39;00m\n\u001b[32m   (...)\u001b[39m\u001b[32m     24\u001b[39m \u001b[33;03m    count (int, float): A value that represents the total elements in iterable\u001b[39;00m\n\u001b[32m     25\u001b[39m \u001b[33;03m\"\"\"\u001b[39;00m\n\u001b[32m     26\u001b[39m count = \u001b[32m0\u001b[39m\n\u001b[32m---> \u001b[39m\u001b[32m28\u001b[39m \u001b[43m\u001b[49m\u001b[38;5;28;43;01mfor\u001b[39;49;00m\u001b[43m \u001b[49m\u001b[43mitem\u001b[49m\u001b[43m \u001b[49m\u001b[38;5;129;43;01min\u001b[39;49;00m\u001b[43m \u001b[49m\u001b[43mobj\u001b[49m\u001b[43m:\u001b[49m\n\u001b[32m     29\u001b[39m \u001b[43m    \u001b[49m\u001b[43mcount\u001b[49m\u001b[43m \u001b[49m\u001b[43m+\u001b[49m\u001b[43m=\u001b[49m\u001b[43m \u001b[49m\u001b[32;43m1\u001b[39;49m\n\u001b[32m     31\u001b[39m \u001b[38;5;28;01mreturn\u001b[39;00m count\n",
      "\u001b[31mTypeError\u001b[39m: 'int' object is not iterable"
     ]
    }
   ],
   "source": [
    "obj = 1\n",
    "len_my_obj = l1_len(obj)\n",
    "print(f\"Obj total = {len_my_obj}\")"
   ]
  }
 ],
 "metadata": {
  "kernelspec": {
   "display_name": "base",
   "language": "python",
   "name": "python3"
  },
  "language_info": {
   "codemirror_mode": {
    "name": "ipython",
    "version": 3
   },
   "file_extension": ".py",
   "mimetype": "text/x-python",
   "name": "python",
   "nbconvert_exporter": "python",
   "pygments_lexer": "ipython3",
   "version": "3.12.10"
  }
 },
 "nbformat": 4,
 "nbformat_minor": 5
}
